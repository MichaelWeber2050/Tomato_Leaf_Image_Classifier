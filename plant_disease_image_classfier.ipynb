{
 "cells": [
  {
   "cell_type": "code",
   "execution_count": 1,
   "metadata": {
    "scrolled": true
   },
   "outputs": [
    {
     "ename": "ModuleNotFoundError",
     "evalue": "No module named 'cv2'",
     "output_type": "error",
     "traceback": [
      "\u001b[0;31m---------------------------------------------------------------------------\u001b[0m",
      "\u001b[0;31mModuleNotFoundError\u001b[0m                       Traceback (most recent call last)",
      "\u001b[0;32m<ipython-input-1-8d8600a044f6>\u001b[0m in \u001b[0;36m<module>\u001b[0;34m\u001b[0m\n\u001b[1;32m      1\u001b[0m \u001b[0;32mimport\u001b[0m \u001b[0mnumpy\u001b[0m \u001b[0;32mas\u001b[0m \u001b[0mnp\u001b[0m\u001b[0;34m\u001b[0m\u001b[0;34m\u001b[0m\u001b[0m\n\u001b[1;32m      2\u001b[0m \u001b[0;32mimport\u001b[0m \u001b[0mpickle\u001b[0m\u001b[0;34m\u001b[0m\u001b[0;34m\u001b[0m\u001b[0m\n\u001b[0;32m----> 3\u001b[0;31m \u001b[0;32mimport\u001b[0m \u001b[0mcv2\u001b[0m\u001b[0;34m\u001b[0m\u001b[0;34m\u001b[0m\u001b[0m\n\u001b[0m\u001b[1;32m      4\u001b[0m \u001b[0;32mfrom\u001b[0m \u001b[0mos\u001b[0m \u001b[0;32mimport\u001b[0m \u001b[0mlistdir\u001b[0m\u001b[0;34m\u001b[0m\u001b[0;34m\u001b[0m\u001b[0m\n\u001b[1;32m      5\u001b[0m \u001b[0;32mfrom\u001b[0m \u001b[0msklearn\u001b[0m\u001b[0;34m.\u001b[0m\u001b[0mpreprocessing\u001b[0m \u001b[0;32mimport\u001b[0m \u001b[0mLabelBinarizer\u001b[0m\u001b[0;34m\u001b[0m\u001b[0;34m\u001b[0m\u001b[0m\n",
      "\u001b[0;31mModuleNotFoundError\u001b[0m: No module named 'cv2'"
     ]
    }
   ],
   "source": [
    "import numpy as np\n",
    "import pickle\n",
    "import cv2\n",
    "from os import listdir\n",
    "from sklearn.preprocessing import LabelBinarizer\n",
    "from keras.models import Sequential\n",
    "from keras.layers.normalization import BatchNormalization\n",
    "from keras.layers.convolutional import Conv2D\n",
    "from keras.layers.convolutional import MaxPooling2D\n",
    "from keras.layers.core import Activation, Flatten, Dropout, Dense\n",
    "from keras import backend as K\n",
    "from keras.preprocessing.image import ImageDataGenerator\n",
    "from keras.optimizers import Adam\n",
    "from keras.preprocessing import image\n",
    "from keras.preprocessing.image import img_to_array\n",
    "from sklearn.preprocessing import MultiLabelBinarizer\n",
    "from sklearn.model_selection import train_test_split\n",
    "import matplotlib.pyplot as plt"
   ]
  },
  {
   "cell_type": "code",
   "execution_count": 138,
   "metadata": {},
   "outputs": [],
   "source": [
    "from sklearn.model_selection import train_test_split"
   ]
  },
  {
   "cell_type": "code",
   "execution_count": 2,
   "metadata": {},
   "outputs": [],
   "source": [
    "import os, shutil"
   ]
  },
  {
   "cell_type": "code",
   "execution_count": 22,
   "metadata": {},
   "outputs": [],
   "source": [
    "# The path to the directory where the original\n",
    "# dataset was uncompressed\n",
    "original_dataset_dir = '/Users/michaelweber/Desktop/DS JOB/Bowery Farming Folder'"
   ]
  },
  {
   "cell_type": "code",
   "execution_count": 21,
   "metadata": {},
   "outputs": [],
   "source": [
    "# The directory where we will\n",
    "# store our smaller dataset\n",
    "base_dir = '/Users/michaelweber/Desktop/DS JOB/Bowery Farming Folder/Tomato_Classifier'\n",
    "os.mkdir(base_dir)"
   ]
  },
  {
   "cell_type": "code",
   "execution_count": 23,
   "metadata": {},
   "outputs": [],
   "source": [
    "# Directories for our training,\n",
    "# validation and test splits\n",
    "train_dir = os.path.join(base_dir, 'train')\n",
    "os.mkdir(train_dir)\n",
    "\n",
    "test_dir = os.path.join(base_dir, 'test')\n",
    "os.mkdir(test_dir)\n",
    "\n",
    "# Directory with our training cat pictures\n",
    "train_healthy_dir = os.path.join(train_dir, 'healthy')\n",
    "os.mkdir(train_healthy_dir)\n",
    "\n",
    "# Directory with our training dog pictures\n",
    "train_sick_dir = os.path.join(train_dir, 'sick')\n",
    "os.mkdir(train_sick_dir)\n",
    "\n",
    "\n",
    "\n",
    "# Directory with our test healthy pictures\n",
    "test_healthy_dir = os.path.join(test_dir, 'healthy')\n",
    "os.mkdir(test_healthy_dir)\n",
    "\n",
    "# Directory with our test sick pictures\n",
    "test_sick_dir = os.path.join(test_dir, 'sick')\n",
    "os.mkdir(test_sick_dir)"
   ]
  },
  {
   "cell_type": "code",
   "execution_count": 56,
   "metadata": {},
   "outputs": [
    {
     "data": {
      "text/plain": [
       "('/Users/michaelweber/Desktop/DS JOB/Bowery Farming Folder/Tomato_Classifier/train/healthy/Tomato_healthy/',\n",
       " '/Users/michaelweber/Desktop/DS JOB/Bowery Farming Folder')"
      ]
     },
     "execution_count": 56,
     "metadata": {},
     "output_type": "execute_result"
    }
   ],
   "source": [
    "healthy_directory = '/Users/michaelweber/Desktop/DS JOB/Bowery Farming Folder/Tomato_Classifier/train/healthy/Tomato_healthy/'\n",
    "\n",
    "healthy_directory, original_dataset_dir"
   ]
  },
  {
   "cell_type": "markdown",
   "metadata": {},
   "source": [
    "__get a list of the healthy images__"
   ]
  },
  {
   "cell_type": "code",
   "execution_count": 76,
   "metadata": {},
   "outputs": [
    {
     "name": "stdout",
     "output_type": "stream",
     "text": [
      "1592\n"
     ]
    }
   ],
   "source": [
    "# how many images of healthy tomato leaves do we have?\n",
    "_list = os.listdir(healthy_directory) \n",
    "# healthy_directory = '/Users/michaelweber/Desktop/DS JOB/Bowery Farming Folder/Tomato_Classifier/train/healthy/Tomato_healthy/'\n",
    "\n",
    "\n",
    "number_files = len(_list)\n",
    "print(number_files)"
   ]
  },
  {
   "cell_type": "code",
   "execution_count": 77,
   "metadata": {},
   "outputs": [
    {
     "data": {
      "text/plain": [
       "'9e2a71e5-2a59-4e62-9c6c-581fe9091a10___RS_HL 0132.JPG'"
      ]
     },
     "execution_count": 77,
     "metadata": {},
     "output_type": "execute_result"
    }
   ],
   "source": [
    "_list[0]"
   ]
  },
  {
   "cell_type": "markdown",
   "metadata": {},
   "source": [
    "__get a list for each of the 9 tomato ailments__"
   ]
  },
  {
   "cell_type": "code",
   "execution_count": 96,
   "metadata": {},
   "outputs": [],
   "source": [
    "# define each path as variable\n",
    "bacterial_spot = '/Users/michaelweber/Desktop/DS JOB/Bowery Farming Folder/Tomato_Classifier/train/sick/Tomato_Bacterial_spot'\n",
    "early_blight = '/Users/michaelweber/Desktop/DS JOB/Bowery Farming Folder/Tomato_Classifier/train/sick/Tomato_Early_blight'\n",
    "late_blight = '/Users/michaelweber/Desktop/DS JOB/Bowery Farming Folder/Tomato_Classifier/train/sick/Tomato_Late_blight'\n",
    "leaf_mold = '/Users/michaelweber/Desktop/DS JOB/Bowery Farming Folder/Tomato_Classifier/train/sick/Tomato_Leaf_Mold'\n",
    "septoria_spot = '/Users/michaelweber/Desktop/DS JOB/Bowery Farming Folder/Tomato_Classifier/train/sick/Tomato_Septoria_leaf_spot'\n",
    "spider_mites = '/Users/michaelweber/Desktop/DS JOB/Bowery Farming Folder/Tomato_Classifier/train/sick/Tomato_Spider_mites_Two_spotted_spider_mite'\n",
    "target_spot = '/Users/michaelweber/Desktop/DS JOB/Bowery Farming Folder/Tomato_Classifier/train/sick/Tomato__Target_Spot'\n",
    "curl_virus = '/Users/michaelweber/Desktop/DS JOB/Bowery Farming Folder/Tomato_Classifier/train/sick/Tomato__Tomato_YellowLeaf__Curl_Virus'\n",
    "mosaic_virus = '/Users/michaelweber/Desktop/DS JOB/Bowery Farming Folder/Tomato_Classifier/train/sick/Tomato__Tomato_mosaic_virus'\n",
    "\n",
    "_sicks = [bacterial_spot, early_blight, late_blight, leaf_mold, septoria_spot, spider_mites,\n",
    "         target_spot, curl_virus, mosaic_virus]\n",
    "\n",
    "_list_bacterial_spot = os.listdir(bacterial_spot)\n",
    "_list_early_blight = os.listdir(early_blight)\n",
    "_list_late_blight = os.listdir(late_blight)\n",
    "_list_leaf_mold = os.listdir(leaf_mold)\n",
    "_list_septoria_spot = os.listdir(septoria_spot)\n",
    "_list_target_spot = os.listdir(target_spot)\n",
    "_list_curl_virus = os.listdir(curl_virus)\n",
    "_list_mosaic_virus = os.listdir(mosaic_virus)\n",
    "\n",
    "\n",
    "\n",
    "\n",
    "# for sick in _sicks:\n",
    "#     namer = '_file_list'\n",
    "#     name = sick + namer\n",
    "#     print(name)\n",
    "#     name = os.listdir(sick)\n",
    "    "
   ]
  },
  {
   "cell_type": "code",
   "execution_count": 98,
   "metadata": {},
   "outputs": [
    {
     "data": {
      "text/plain": [
       "1000"
      ]
     },
     "execution_count": 98,
     "metadata": {},
     "output_type": "execute_result"
    }
   ],
   "source": [
    "# check lenths and if for loop worked\n",
    "len(_list_bacterial_spot)\n",
    "\n",
    "# was expecting 2128 so command line likely includes that interior subdirectory\n",
    "\n",
    "len(_list_early_blight)"
   ]
  },
  {
   "cell_type": "markdown",
   "metadata": {},
   "source": [
    "__add all healthy data to healthy df and all sick data to sick df__"
   ]
  },
  {
   "cell_type": "code",
   "execution_count": 112,
   "metadata": {},
   "outputs": [],
   "source": [
    "healthy_df = pd.DataFrame({'file': _list})"
   ]
  },
  {
   "cell_type": "code",
   "execution_count": 114,
   "metadata": {},
   "outputs": [
    {
     "data": {
      "text/plain": [
       "((1592, 1),                                                 file\n",
       " 0  9e2a71e5-2a59-4e62-9c6c-581fe9091a10___RS_HL 0...\n",
       " 1  e2991a66-412d-4841-8dc0-524e38338a82___GH_HL L...\n",
       " 2  a5e54e01-2cd5-482a-bfba-8728ca32473c___GH_HL L...\n",
       " 3  e9392a5e-2fac-48c5-a23d-df3aa3f61048___GH_HL L...\n",
       " 4  ccfba9c3-41a5-40de-b71a-980bc3336ae7___GH_HL L...)"
      ]
     },
     "execution_count": 114,
     "metadata": {},
     "output_type": "execute_result"
    }
   ],
   "source": [
    "healthy_df.shape, healthy_df.head()"
   ]
  },
  {
   "cell_type": "code",
   "execution_count": 105,
   "metadata": {},
   "outputs": [],
   "source": [
    "# healthy_df = pd.DataFrame(np.array(_list).reshape(2, 1592), columns=['file', 'is_healthy'])\n",
    "# for image in _list:\n",
    "#     healthy_df = df.append({'file': image,\n",
    "#                        'is_healthy': 'yes'}, ignore_index=True)\n",
    "    "
   ]
  },
  {
   "cell_type": "code",
   "execution_count": 115,
   "metadata": {},
   "outputs": [
    {
     "data": {
      "text/html": [
       "<div>\n",
       "<style scoped>\n",
       "    .dataframe tbody tr th:only-of-type {\n",
       "        vertical-align: middle;\n",
       "    }\n",
       "\n",
       "    .dataframe tbody tr th {\n",
       "        vertical-align: top;\n",
       "    }\n",
       "\n",
       "    .dataframe thead th {\n",
       "        text-align: right;\n",
       "    }\n",
       "</style>\n",
       "<table border=\"1\" class=\"dataframe\">\n",
       "  <thead>\n",
       "    <tr style=\"text-align: right;\">\n",
       "      <th></th>\n",
       "      <th>file</th>\n",
       "      <th>status</th>\n",
       "    </tr>\n",
       "  </thead>\n",
       "  <tbody>\n",
       "    <tr>\n",
       "      <th>0</th>\n",
       "      <td>9e2a71e5-2a59-4e62-9c6c-581fe9091a10___RS_HL 0...</td>\n",
       "      <td>healthy</td>\n",
       "    </tr>\n",
       "    <tr>\n",
       "      <th>1</th>\n",
       "      <td>e2991a66-412d-4841-8dc0-524e38338a82___GH_HL L...</td>\n",
       "      <td>healthy</td>\n",
       "    </tr>\n",
       "    <tr>\n",
       "      <th>2</th>\n",
       "      <td>a5e54e01-2cd5-482a-bfba-8728ca32473c___GH_HL L...</td>\n",
       "      <td>healthy</td>\n",
       "    </tr>\n",
       "    <tr>\n",
       "      <th>3</th>\n",
       "      <td>e9392a5e-2fac-48c5-a23d-df3aa3f61048___GH_HL L...</td>\n",
       "      <td>healthy</td>\n",
       "    </tr>\n",
       "    <tr>\n",
       "      <th>4</th>\n",
       "      <td>ccfba9c3-41a5-40de-b71a-980bc3336ae7___GH_HL L...</td>\n",
       "      <td>healthy</td>\n",
       "    </tr>\n",
       "  </tbody>\n",
       "</table>\n",
       "</div>"
      ],
      "text/plain": [
       "                                                file   status\n",
       "0  9e2a71e5-2a59-4e62-9c6c-581fe9091a10___RS_HL 0...  healthy\n",
       "1  e2991a66-412d-4841-8dc0-524e38338a82___GH_HL L...  healthy\n",
       "2  a5e54e01-2cd5-482a-bfba-8728ca32473c___GH_HL L...  healthy\n",
       "3  e9392a5e-2fac-48c5-a23d-df3aa3f61048___GH_HL L...  healthy\n",
       "4  ccfba9c3-41a5-40de-b71a-980bc3336ae7___GH_HL L...  healthy"
      ]
     },
     "execution_count": 115,
     "metadata": {},
     "output_type": "execute_result"
    }
   ],
   "source": [
    "healthy_df['status'] = 'healthy'\n",
    "healthy_df.head()"
   ]
  },
  {
   "cell_type": "code",
   "execution_count": 122,
   "metadata": {},
   "outputs": [],
   "source": [
    "bacterial_spot_df = pd.DataFrame({'file': _list_bacterial_spot})\n",
    "early_blight_df = pd.DataFrame({'file': _list_early_blight})\n",
    "late_blight_df = pd.DataFrame({'file': _list_late_blight})\n",
    "leaf_mold_df = pd.DataFrame({'file': _list_leaf_mold})\n",
    "septoria_df = pd.DataFrame({'file': _list_septoria_spot})\n",
    "target_spot_df = pd.DataFrame({'file': _list_target_spot})\n",
    "curl_virus_df = pd.DataFrame({'file': _list_curl_virus})\n",
    "mosaic_df = pd.DataFrame({'file': _list_mosaic_virus})\n",
    "\n",
    "df_list = [bacterial_spot_df, early_blight_df, late_blight_df,\n",
    "          leaf_mold_df, septoria_df, target_spot_df, curl_virus_df, mosaic_df]"
   ]
  },
  {
   "cell_type": "code",
   "execution_count": 134,
   "metadata": {},
   "outputs": [],
   "source": [
    "# add target variable\n",
    "for df in df_list:\n",
    "    df['status'] = 'sick'\n"
   ]
  },
  {
   "cell_type": "code",
   "execution_count": 136,
   "metadata": {},
   "outputs": [],
   "source": [
    "# add categorical sickness type variable\n",
    "bacterial_spot_df['sickness'] = 'bacterial_spot'\n",
    "early_blight_df['sickness'] = 'early_blight'\n",
    "late_blight_df['sickness'] = 'late_blight'\n",
    "leaf_mold_df['sickness'] = 'leaf_mold'\n",
    "septoria_df['sickness'] = 'septoria_spot'\n",
    "target_spot_df['sickness'] = 'target_spot'\n",
    "curl_virus_df['sickness'] = 'curl_virus'\n",
    "mosaic_df['sickness'] = 'mosaic_virus'\n",
    "    "
   ]
  },
  {
   "cell_type": "code",
   "execution_count": 137,
   "metadata": {
    "scrolled": true
   },
   "outputs": [
    {
     "data": {
      "text/html": [
       "<div>\n",
       "<style scoped>\n",
       "    .dataframe tbody tr th:only-of-type {\n",
       "        vertical-align: middle;\n",
       "    }\n",
       "\n",
       "    .dataframe tbody tr th {\n",
       "        vertical-align: top;\n",
       "    }\n",
       "\n",
       "    .dataframe thead th {\n",
       "        text-align: right;\n",
       "    }\n",
       "</style>\n",
       "<table border=\"1\" class=\"dataframe\">\n",
       "  <thead>\n",
       "    <tr style=\"text-align: right;\">\n",
       "      <th></th>\n",
       "      <th>file</th>\n",
       "      <th>status</th>\n",
       "      <th>sickness</th>\n",
       "    </tr>\n",
       "  </thead>\n",
       "  <tbody>\n",
       "    <tr>\n",
       "      <th>0</th>\n",
       "      <td>97aa541d-9ac5-4933-8977-2bd64094ad38___PSU_CG ...</td>\n",
       "      <td>sick</td>\n",
       "      <td>mosaic_virus</td>\n",
       "    </tr>\n",
       "    <tr>\n",
       "      <th>1</th>\n",
       "      <td>c7f8e876-66c2-4014-82a4-47d4556bfb7d___PSU_CG ...</td>\n",
       "      <td>sick</td>\n",
       "      <td>mosaic_virus</td>\n",
       "    </tr>\n",
       "  </tbody>\n",
       "</table>\n",
       "</div>"
      ],
      "text/plain": [
       "                                                file status      sickness\n",
       "0  97aa541d-9ac5-4933-8977-2bd64094ad38___PSU_CG ...   sick  mosaic_virus\n",
       "1  c7f8e876-66c2-4014-82a4-47d4556bfb7d___PSU_CG ...   sick  mosaic_virus"
      ]
     },
     "execution_count": 137,
     "metadata": {},
     "output_type": "execute_result"
    }
   ],
   "source": [
    "mosaic_df.head(2)"
   ]
  },
  {
   "cell_type": "code",
   "execution_count": 140,
   "metadata": {},
   "outputs": [
    {
     "data": {
      "text/html": [
       "<div>\n",
       "<style scoped>\n",
       "    .dataframe tbody tr th:only-of-type {\n",
       "        vertical-align: middle;\n",
       "    }\n",
       "\n",
       "    .dataframe tbody tr th {\n",
       "        vertical-align: top;\n",
       "    }\n",
       "\n",
       "    .dataframe thead th {\n",
       "        text-align: right;\n",
       "    }\n",
       "</style>\n",
       "<table border=\"1\" class=\"dataframe\">\n",
       "  <thead>\n",
       "    <tr style=\"text-align: right;\">\n",
       "      <th></th>\n",
       "      <th>file</th>\n",
       "      <th>status</th>\n",
       "      <th>sickness</th>\n",
       "    </tr>\n",
       "  </thead>\n",
       "  <tbody>\n",
       "    <tr>\n",
       "      <th>0</th>\n",
       "      <td>9e2a71e5-2a59-4e62-9c6c-581fe9091a10___RS_HL 0...</td>\n",
       "      <td>healthy</td>\n",
       "      <td>healthy</td>\n",
       "    </tr>\n",
       "    <tr>\n",
       "      <th>1</th>\n",
       "      <td>e2991a66-412d-4841-8dc0-524e38338a82___GH_HL L...</td>\n",
       "      <td>healthy</td>\n",
       "      <td>healthy</td>\n",
       "    </tr>\n",
       "  </tbody>\n",
       "</table>\n",
       "</div>"
      ],
      "text/plain": [
       "                                                file   status sickness\n",
       "0  9e2a71e5-2a59-4e62-9c6c-581fe9091a10___RS_HL 0...  healthy  healthy\n",
       "1  e2991a66-412d-4841-8dc0-524e38338a82___GH_HL L...  healthy  healthy"
      ]
     },
     "execution_count": 140,
     "metadata": {},
     "output_type": "execute_result"
    }
   ],
   "source": [
    "healthy_df['sickness'] = 'healthy'\n",
    "healthy_df.head(2)"
   ]
  },
  {
   "cell_type": "markdown",
   "metadata": {},
   "source": [
    "__consolidate all sicknesses into one dataframe__"
   ]
  },
  {
   "cell_type": "code",
   "execution_count": 142,
   "metadata": {},
   "outputs": [],
   "source": [
    "full_sickness_df = pd.concat([df for df in df_list])"
   ]
  },
  {
   "cell_type": "code",
   "execution_count": 143,
   "metadata": {
    "scrolled": false
   },
   "outputs": [
    {
     "data": {
      "text/plain": [
       "(12745, 3)"
      ]
     },
     "execution_count": 143,
     "metadata": {},
     "output_type": "execute_result"
    }
   ],
   "source": [
    "full_sickness_df.shape"
   ]
  },
  {
   "cell_type": "code",
   "execution_count": 145,
   "metadata": {},
   "outputs": [
    {
     "data": {
      "text/html": [
       "<div>\n",
       "<style scoped>\n",
       "    .dataframe tbody tr th:only-of-type {\n",
       "        vertical-align: middle;\n",
       "    }\n",
       "\n",
       "    .dataframe tbody tr th {\n",
       "        vertical-align: top;\n",
       "    }\n",
       "\n",
       "    .dataframe thead th {\n",
       "        text-align: right;\n",
       "    }\n",
       "</style>\n",
       "<table border=\"1\" class=\"dataframe\">\n",
       "  <thead>\n",
       "    <tr style=\"text-align: right;\">\n",
       "      <th></th>\n",
       "      <th>file</th>\n",
       "      <th>status</th>\n",
       "      <th>sickness</th>\n",
       "    </tr>\n",
       "  </thead>\n",
       "  <tbody>\n",
       "    <tr>\n",
       "      <th>371</th>\n",
       "      <td>271772e3-6aeb-4d46-9233-ad877d12971f___PSU_CG ...</td>\n",
       "      <td>sick</td>\n",
       "      <td>mosaic_virus</td>\n",
       "    </tr>\n",
       "    <tr>\n",
       "      <th>372</th>\n",
       "      <td>14c21616-aa9e-4d85-8aff-bdf7f4cf3720___PSU_CG ...</td>\n",
       "      <td>sick</td>\n",
       "      <td>mosaic_virus</td>\n",
       "    </tr>\n",
       "  </tbody>\n",
       "</table>\n",
       "</div>"
      ],
      "text/plain": [
       "                                                  file status      sickness\n",
       "371  271772e3-6aeb-4d46-9233-ad877d12971f___PSU_CG ...   sick  mosaic_virus\n",
       "372  14c21616-aa9e-4d85-8aff-bdf7f4cf3720___PSU_CG ...   sick  mosaic_virus"
      ]
     },
     "execution_count": 145,
     "metadata": {},
     "output_type": "execute_result"
    }
   ],
   "source": [
    "full_sickness_df.tail(2)"
   ]
  },
  {
   "cell_type": "code",
   "execution_count": 146,
   "metadata": {},
   "outputs": [
    {
     "name": "stdout",
     "output_type": "stream",
     "text": [
      "<class 'pandas.core.frame.DataFrame'>\n",
      "Int64Index: 12745 entries, 0 to 372\n",
      "Data columns (total 3 columns):\n",
      "file        12745 non-null object\n",
      "status      12745 non-null object\n",
      "sickness    12745 non-null object\n",
      "dtypes: object(3)\n",
      "memory usage: 398.3+ KB\n"
     ]
    }
   ],
   "source": [
    "full_sickness_df.info()"
   ]
  },
  {
   "cell_type": "code",
   "execution_count": 149,
   "metadata": {},
   "outputs": [],
   "source": [
    "# and for healthy\n",
    "tomato_df = pd.concat([healthy_df, full_sickness_df], ignore_index=True)"
   ]
  },
  {
   "cell_type": "code",
   "execution_count": 150,
   "metadata": {},
   "outputs": [
    {
     "data": {
      "text/plain": [
       "(14337, 3)"
      ]
     },
     "execution_count": 150,
     "metadata": {},
     "output_type": "execute_result"
    }
   ],
   "source": [
    "tomato_df.shape"
   ]
  },
  {
   "cell_type": "code",
   "execution_count": 151,
   "metadata": {
    "scrolled": true
   },
   "outputs": [
    {
     "name": "stdout",
     "output_type": "stream",
     "text": [
      "<class 'pandas.core.frame.DataFrame'>\n",
      "RangeIndex: 14337 entries, 0 to 14336\n",
      "Data columns (total 3 columns):\n",
      "file        14337 non-null object\n",
      "status      14337 non-null object\n",
      "sickness    14337 non-null object\n",
      "dtypes: object(3)\n",
      "memory usage: 336.1+ KB\n"
     ]
    }
   ],
   "source": [
    "tomato_df.info()"
   ]
  },
  {
   "cell_type": "code",
   "execution_count": 152,
   "metadata": {},
   "outputs": [
    {
     "data": {
      "text/html": [
       "<div>\n",
       "<style scoped>\n",
       "    .dataframe tbody tr th:only-of-type {\n",
       "        vertical-align: middle;\n",
       "    }\n",
       "\n",
       "    .dataframe tbody tr th {\n",
       "        vertical-align: top;\n",
       "    }\n",
       "\n",
       "    .dataframe thead th {\n",
       "        text-align: right;\n",
       "    }\n",
       "</style>\n",
       "<table border=\"1\" class=\"dataframe\">\n",
       "  <thead>\n",
       "    <tr style=\"text-align: right;\">\n",
       "      <th></th>\n",
       "      <th>file</th>\n",
       "      <th>status</th>\n",
       "      <th>sickness</th>\n",
       "    </tr>\n",
       "  </thead>\n",
       "  <tbody>\n",
       "    <tr>\n",
       "      <th>14335</th>\n",
       "      <td>271772e3-6aeb-4d46-9233-ad877d12971f___PSU_CG ...</td>\n",
       "      <td>sick</td>\n",
       "      <td>mosaic_virus</td>\n",
       "    </tr>\n",
       "    <tr>\n",
       "      <th>14336</th>\n",
       "      <td>14c21616-aa9e-4d85-8aff-bdf7f4cf3720___PSU_CG ...</td>\n",
       "      <td>sick</td>\n",
       "      <td>mosaic_virus</td>\n",
       "    </tr>\n",
       "  </tbody>\n",
       "</table>\n",
       "</div>"
      ],
      "text/plain": [
       "                                                    file status      sickness\n",
       "14335  271772e3-6aeb-4d46-9233-ad877d12971f___PSU_CG ...   sick  mosaic_virus\n",
       "14336  14c21616-aa9e-4d85-8aff-bdf7f4cf3720___PSU_CG ...   sick  mosaic_virus"
      ]
     },
     "execution_count": 152,
     "metadata": {},
     "output_type": "execute_result"
    }
   ],
   "source": [
    "tomato_df.tail(2)"
   ]
  },
  {
   "cell_type": "markdown",
   "metadata": {},
   "source": [
    "__split to train and test sets__"
   ]
  },
  {
   "cell_type": "code",
   "execution_count": 154,
   "metadata": {},
   "outputs": [],
   "source": [
    "tomato_df['b_status'] = np.where(tomato_df['status']=='healthy', 1, 0)"
   ]
  },
  {
   "cell_type": "code",
   "execution_count": 155,
   "metadata": {
    "scrolled": true
   },
   "outputs": [
    {
     "data": {
      "text/html": [
       "<div>\n",
       "<style scoped>\n",
       "    .dataframe tbody tr th:only-of-type {\n",
       "        vertical-align: middle;\n",
       "    }\n",
       "\n",
       "    .dataframe tbody tr th {\n",
       "        vertical-align: top;\n",
       "    }\n",
       "\n",
       "    .dataframe thead th {\n",
       "        text-align: right;\n",
       "    }\n",
       "</style>\n",
       "<table border=\"1\" class=\"dataframe\">\n",
       "  <thead>\n",
       "    <tr style=\"text-align: right;\">\n",
       "      <th></th>\n",
       "      <th>file</th>\n",
       "      <th>status</th>\n",
       "      <th>sickness</th>\n",
       "      <th>b_status</th>\n",
       "    </tr>\n",
       "  </thead>\n",
       "  <tbody>\n",
       "    <tr>\n",
       "      <th>14335</th>\n",
       "      <td>271772e3-6aeb-4d46-9233-ad877d12971f___PSU_CG ...</td>\n",
       "      <td>sick</td>\n",
       "      <td>mosaic_virus</td>\n",
       "      <td>0</td>\n",
       "    </tr>\n",
       "    <tr>\n",
       "      <th>14336</th>\n",
       "      <td>14c21616-aa9e-4d85-8aff-bdf7f4cf3720___PSU_CG ...</td>\n",
       "      <td>sick</td>\n",
       "      <td>mosaic_virus</td>\n",
       "      <td>0</td>\n",
       "    </tr>\n",
       "  </tbody>\n",
       "</table>\n",
       "</div>"
      ],
      "text/plain": [
       "                                                    file status      sickness  \\\n",
       "14335  271772e3-6aeb-4d46-9233-ad877d12971f___PSU_CG ...   sick  mosaic_virus   \n",
       "14336  14c21616-aa9e-4d85-8aff-bdf7f4cf3720___PSU_CG ...   sick  mosaic_virus   \n",
       "\n",
       "       b_status  \n",
       "14335         0  \n",
       "14336         0  "
      ]
     },
     "execution_count": 155,
     "metadata": {},
     "output_type": "execute_result"
    }
   ],
   "source": [
    "tomato_df.tail(2)"
   ]
  },
  {
   "cell_type": "code",
   "execution_count": 156,
   "metadata": {},
   "outputs": [],
   "source": [
    "Y = tomato_df['b_status']\n",
    "X = tomato_df.drop(columns=['status','b_status'])"
   ]
  },
  {
   "cell_type": "code",
   "execution_count": 158,
   "metadata": {},
   "outputs": [],
   "source": [
    "X_train, X_test, y_train, y_test = train_test_split(X, Y, test_size=0.2, random_state=1111)"
   ]
  },
  {
   "cell_type": "code",
   "execution_count": 171,
   "metadata": {},
   "outputs": [
    {
     "data": {
      "text/plain": [
       "0    2559\n",
       "1     309\n",
       "Name: b_status, dtype: int64"
      ]
     },
     "execution_count": 171,
     "metadata": {},
     "output_type": "execute_result"
    }
   ],
   "source": [
    "y_test.value_counts()"
   ]
  },
  {
   "cell_type": "code",
   "execution_count": null,
   "metadata": {},
   "outputs": [],
   "source": [
    "# 12 percent healthy vs 11 percent in total observations"
   ]
  },
  {
   "cell_type": "code",
   "execution_count": null,
   "metadata": {},
   "outputs": [],
   "source": [
    "df.to_csv('labels.csv', index=False)"
   ]
  },
  {
   "cell_type": "markdown",
   "metadata": {},
   "source": [
    "### Layer up the sequential model\n",
    "\n",
    "__Conv2D with MaxPooling2D__"
   ]
  },
  {
   "cell_type": "code",
   "execution_count": 3,
   "metadata": {},
   "outputs": [
    {
     "name": "stderr",
     "output_type": "stream",
     "text": [
      "Using TensorFlow backend.\n"
     ]
    }
   ],
   "source": [
    "from keras import layers\n",
    "from keras import models\n",
    "\n",
    "model = models.Sequential()\n",
    "model.add(layers.Conv2D(32, (3, 3), activation='relu',\n",
    "                        input_shape=(150, 150, 3)))\n",
    "model.add(layers.MaxPooling2D((2, 2)))\n",
    "model.add(layers.Conv2D(64, (3, 3), activation='relu'))\n",
    "model.add(layers.MaxPooling2D((2, 2)))\n",
    "model.add(layers.Conv2D(128, (3, 3), activation='relu'))\n",
    "model.add(layers.MaxPooling2D((2, 2)))\n",
    "model.add(layers.Conv2D(128, (3, 3), activation='relu'))\n",
    "model.add(layers.MaxPooling2D((2, 2)))\n",
    "model.add(layers.Flatten())\n",
    "model.add(layers.Dense(512, activation='relu'))\n",
    "model.add(layers.Dense(1, activation='sigmoid'))"
   ]
  },
  {
   "cell_type": "code",
   "execution_count": 5,
   "metadata": {},
   "outputs": [
    {
     "name": "stdout",
     "output_type": "stream",
     "text": [
      "_________________________________________________________________\n",
      "Layer (type)                 Output Shape              Param #   \n",
      "=================================================================\n",
      "conv2d_1 (Conv2D)            (None, 148, 148, 32)      896       \n",
      "_________________________________________________________________\n",
      "max_pooling2d_1 (MaxPooling2 (None, 74, 74, 32)        0         \n",
      "_________________________________________________________________\n",
      "conv2d_2 (Conv2D)            (None, 72, 72, 64)        18496     \n",
      "_________________________________________________________________\n",
      "max_pooling2d_2 (MaxPooling2 (None, 36, 36, 64)        0         \n",
      "_________________________________________________________________\n",
      "conv2d_3 (Conv2D)            (None, 34, 34, 128)       73856     \n",
      "_________________________________________________________________\n",
      "max_pooling2d_3 (MaxPooling2 (None, 17, 17, 128)       0         \n",
      "_________________________________________________________________\n",
      "conv2d_4 (Conv2D)            (None, 15, 15, 128)       147584    \n",
      "_________________________________________________________________\n",
      "max_pooling2d_4 (MaxPooling2 (None, 7, 7, 128)         0         \n",
      "_________________________________________________________________\n",
      "flatten_1 (Flatten)          (None, 6272)              0         \n",
      "_________________________________________________________________\n",
      "dense_1 (Dense)              (None, 512)               3211776   \n",
      "_________________________________________________________________\n",
      "dense_2 (Dense)              (None, 1)                 513       \n",
      "=================================================================\n",
      "Total params: 3,453,121\n",
      "Trainable params: 3,453,121\n",
      "Non-trainable params: 0\n",
      "_________________________________________________________________\n"
     ]
    }
   ],
   "source": [
    "model.summary()"
   ]
  },
  {
   "cell_type": "code",
   "execution_count": 4,
   "metadata": {},
   "outputs": [],
   "source": [
    "from keras import optimizers\n",
    "\n",
    "model.compile(loss='binary_crossentropy',\n",
    "              optimizer=optimizers.RMSprop(lr=1e-4),\n",
    "              metrics=['acc'])"
   ]
  },
  {
   "cell_type": "markdown",
   "metadata": {},
   "source": [
    "__quick hack to get images into directories__"
   ]
  },
  {
   "cell_type": "code",
   "execution_count": null,
   "metadata": {},
   "outputs": [],
   "source": [
    "# hack command line to move 20 percent of each categorical for train and test split\n",
    "# ls | head -307 | xargs -I{} mv {} ../test_healthy"
   ]
  },
  {
   "cell_type": "code",
   "execution_count": 6,
   "metadata": {},
   "outputs": [
    {
     "name": "stdout",
     "output_type": "stream",
     "text": [
      "total sick training images: 11535\n"
     ]
    }
   ],
   "source": [
    "train_dir = '/Users/michaelweber/Desktop/DS JOB/Bowery Farming Folder/Tomato_Classifier/train/train_sick'\n",
    "print('total sick training images:', len(os.listdir(train_dir)))"
   ]
  },
  {
   "cell_type": "code",
   "execution_count": 12,
   "metadata": {},
   "outputs": [
    {
     "name": "stdout",
     "output_type": "stream",
     "text": [
      "total healthy training images: 1275\n"
     ]
    }
   ],
   "source": [
    "healthy_train_dir = '/Users/michaelweber/Desktop/DS JOB/Bowery Farming Folder/Tomato_Classifier/train/train_healthy'\n",
    "print('total healthy training images:', len(os.listdir(healthy_train_dir)))"
   ]
  },
  {
   "cell_type": "code",
   "execution_count": 13,
   "metadata": {},
   "outputs": [
    {
     "name": "stdout",
     "output_type": "stream",
     "text": [
      "total sick test images: 2886\n"
     ]
    }
   ],
   "source": [
    "sick_test_dir = '/Users/michaelweber/Desktop/DS JOB/Bowery Farming Folder/Tomato_Classifier/test/test_sick'\n",
    "print('total sick test images:', len(os.listdir(sick_test_dir)))"
   ]
  },
  {
   "cell_type": "code",
   "execution_count": 14,
   "metadata": {},
   "outputs": [
    {
     "name": "stdout",
     "output_type": "stream",
     "text": [
      "total healthy test images: 310\n"
     ]
    }
   ],
   "source": [
    "healthy_test_dir = '/Users/michaelweber/Desktop/DS JOB/Bowery Farming Folder/Tomato_Classifier/test/test_healthy'\n",
    "print('total healthy test images:', len(os.listdir(healthy_test_dir)))\n"
   ]
  },
  {
   "cell_type": "code",
   "execution_count": 15,
   "metadata": {},
   "outputs": [
    {
     "data": {
      "text/plain": [
       "(0.10741510741510742, 0.11053315994798439)"
      ]
     },
     "execution_count": 15,
     "metadata": {},
     "output_type": "execute_result"
    }
   ],
   "source": [
    "310/2886, 1275/11535"
   ]
  },
  {
   "cell_type": "markdown",
   "metadata": {},
   "source": [
    "__image preprocessing__"
   ]
  },
  {
   "cell_type": "code",
   "execution_count": 11,
   "metadata": {},
   "outputs": [],
   "source": [
    "from keras.preprocessing.image import ImageDataGenerator\n",
    "\n",
    "# All images will be rescaled by 1./255\n",
    "train_datagen = ImageDataGenerator(rescale=1./255)\n",
    "test_datagen = ImageDataGenerator(rescale=1./255)\n",
    "\n",
    "train_dir = '/Users/michaelweber/Desktop/DS JOB/Bowery Farming Folder/Tomato_Classifier/train'\n",
    "test_dir = '/Users/michaelweber/Desktop/DS JOB/Bowery Farming Folder/Tomato_Classifier/test'"
   ]
  },
  {
   "cell_type": "code",
   "execution_count": 12,
   "metadata": {},
   "outputs": [
    {
     "name": "stdout",
     "output_type": "stream",
     "text": [
      "Found 12809 images belonging to 2 classes.\n",
      "Found 3195 images belonging to 2 classes.\n"
     ]
    }
   ],
   "source": [
    "train_generator = train_datagen.flow_from_directory(\n",
    "        # This is the target directory\n",
    "        train_dir,\n",
    "        # All images will be resized to 150x150\n",
    "        target_size=(150, 150),\n",
    "        batch_size=20,\n",
    "        # Since we use binary_crossentropy loss, we need binary labels\n",
    "        class_mode='binary')\n",
    "\n",
    "test_generator = test_datagen.flow_from_directory(\n",
    "        test_dir,\n",
    "        target_size=(150, 150),\n",
    "        batch_size=20,\n",
    "        class_mode='binary')"
   ]
  },
  {
   "cell_type": "code",
   "execution_count": 10,
   "metadata": {},
   "outputs": [
    {
     "name": "stdout",
     "output_type": "stream",
     "text": [
      "data batch shape: (20, 150, 150, 3)\n",
      "labels batch shape: (20,)\n"
     ]
    }
   ],
   "source": [
    "for data_batch, labels_batch in train_generator:\n",
    "    print('data batch shape:', data_batch.shape)\n",
    "    print('labels batch shape:', labels_batch.shape)\n",
    "    break"
   ]
  },
  {
   "cell_type": "markdown",
   "metadata": {},
   "source": [
    "### Fit the model"
   ]
  },
  {
   "cell_type": "code",
   "execution_count": 17,
   "metadata": {},
   "outputs": [
    {
     "name": "stdout",
     "output_type": "stream",
     "text": [
      "Epoch 1/33\n",
      "100/100 [==============================] - 55s 549ms/step - loss: 0.0218 - acc: 0.9920\n",
      "Epoch 2/33\n",
      "100/100 [==============================] - 53s 531ms/step - loss: 0.0288 - acc: 0.9920\n",
      "Epoch 3/33\n",
      "100/100 [==============================] - 53s 532ms/step - loss: 0.0193 - acc: 0.9925\n",
      "Epoch 4/33\n",
      "100/100 [==============================] - 53s 532ms/step - loss: 0.0266 - acc: 0.9915\n",
      "Epoch 5/33\n",
      "100/100 [==============================] - 53s 533ms/step - loss: 0.0070 - acc: 0.9980\n",
      "Epoch 6/33\n",
      "100/100 [==============================] - 53s 533ms/step - loss: 0.0400 - acc: 0.9885\n",
      "Epoch 7/33\n",
      "100/100 [==============================] - 53s 531ms/step - loss: 0.0168 - acc: 0.9925\n",
      "Epoch 8/33\n",
      "100/100 [==============================] - 53s 532ms/step - loss: 0.0269 - acc: 0.9935\n",
      "Epoch 9/33\n",
      "100/100 [==============================] - 54s 536ms/step - loss: 0.0242 - acc: 0.9940\n",
      "Epoch 10/33\n",
      "100/100 [==============================] - 53s 534ms/step - loss: 0.0386 - acc: 0.9945\n",
      "Epoch 11/33\n",
      "100/100 [==============================] - 53s 534ms/step - loss: 0.0218 - acc: 0.9935\n",
      "Epoch 12/33\n",
      "100/100 [==============================] - 53s 533ms/step - loss: 0.0206 - acc: 0.9910\n",
      "Epoch 13/33\n",
      "100/100 [==============================] - 53s 531ms/step - loss: 0.0200 - acc: 0.9925\n",
      "Epoch 14/33\n",
      "100/100 [==============================] - 53s 535ms/step - loss: 0.0169 - acc: 0.9955\n",
      "Epoch 15/33\n",
      "100/100 [==============================] - 53s 534ms/step - loss: 0.0267 - acc: 0.9915\n",
      "Epoch 16/33\n",
      "100/100 [==============================] - 53s 534ms/step - loss: 0.0090 - acc: 0.9975\n",
      "Epoch 17/33\n",
      "100/100 [==============================] - 53s 533ms/step - loss: 0.0246 - acc: 0.9940\n",
      "Epoch 18/33\n",
      "100/100 [==============================] - 549s 5s/step - loss: 0.0110 - acc: 0.9965\n",
      "Epoch 19/33\n",
      "100/100 [==============================] - 58s 576ms/step - loss: 0.0248 - acc: 0.9930\n",
      "Epoch 20/33\n",
      "100/100 [==============================] - 55s 548ms/step - loss: 0.0244 - acc: 0.9940\n",
      "Epoch 21/33\n",
      "100/100 [==============================] - 55s 553ms/step - loss: 0.0185 - acc: 0.9960\n",
      "Epoch 22/33\n",
      "100/100 [==============================] - 56s 565ms/step - loss: 0.0144 - acc: 0.9955\n",
      "Epoch 23/33\n",
      "100/100 [==============================] - 57s 570ms/step - loss: 0.0156 - acc: 0.9940\n",
      "Epoch 24/33\n",
      "100/100 [==============================] - 58s 581ms/step - loss: 0.0233 - acc: 0.9960\n",
      "Epoch 25/33\n",
      "100/100 [==============================] - 55s 548ms/step - loss: 0.0110 - acc: 0.9960\n",
      "Epoch 26/33\n",
      "100/100 [==============================] - 55s 545ms/step - loss: 0.0130 - acc: 0.9970\n",
      "Epoch 27/33\n",
      "100/100 [==============================] - 56s 556ms/step - loss: 0.0118 - acc: 0.9965\n",
      "Epoch 28/33\n",
      "100/100 [==============================] - 57s 571ms/step - loss: 0.0226 - acc: 0.9950\n",
      "Epoch 29/33\n",
      "100/100 [==============================] - 55s 549ms/step - loss: 0.0103 - acc: 0.9965\n",
      "Epoch 30/33\n",
      "100/100 [==============================] - 54s 541ms/step - loss: 0.0112 - acc: 0.9965\n",
      "Epoch 31/33\n",
      "100/100 [==============================] - 55s 548ms/step - loss: 0.0168 - acc: 0.9945\n",
      "Epoch 32/33\n",
      "100/100 [==============================] - 56s 556ms/step - loss: 0.0161 - acc: 0.9955\n",
      "Epoch 33/33\n",
      "100/100 [==============================] - 60s 599ms/step - loss: 0.0146 - acc: 0.9954\n"
     ]
    }
   ],
   "source": [
    "history = model.fit_generator(\n",
    "      train_generator,\n",
    "      steps_per_epoch=100,\n",
    "      epochs=33,\n",
    "      )\n",
    "\n",
    "#validation_data=validation_generator,\n",
    "      #validation_steps=50"
   ]
  },
  {
   "cell_type": "code",
   "execution_count": 21,
   "metadata": {},
   "outputs": [],
   "source": [
    "# always good practice to save a model after running\n",
    "# no validation data\n",
    "model.save('tomato_healthy_or_sick_1.h5')\n",
    "\n",
    "# 27.7 MB"
   ]
  },
  {
   "cell_type": "code",
   "execution_count": 12,
   "metadata": {},
   "outputs": [],
   "source": [
    "# always good practice to save a model after running\n",
    "# no validation data\n",
    "model.save('tomato_healthy_or_sick_2.h5')\n",
    "\n",
    "# 27.7 MB"
   ]
  },
  {
   "cell_type": "code",
   "execution_count": 18,
   "metadata": {},
   "outputs": [],
   "source": [
    "model.save_weights('just_train_model_weights.h5')"
   ]
  },
  {
   "cell_type": "code",
   "execution_count": 8,
   "metadata": {},
   "outputs": [],
   "source": [
    "model.load_weights('tomato_healthy_or_sick_2.h5')"
   ]
  },
  {
   "cell_type": "code",
   "execution_count": 14,
   "metadata": {},
   "outputs": [],
   "source": [
    "model2 = model.load_weights('tomato_healthy_or_sick_1.h5')"
   ]
  },
  {
   "cell_type": "code",
   "execution_count": 20,
   "metadata": {},
   "outputs": [
    {
     "data": {
      "text/plain": [
       "0.9919999980926514"
      ]
     },
     "execution_count": 20,
     "metadata": {},
     "output_type": "execute_result"
    }
   ],
   "source": [
    "history.history['acc'][0]"
   ]
  },
  {
   "cell_type": "markdown",
   "metadata": {},
   "source": [
    "### Plot the accuracy and loss"
   ]
  },
  {
   "cell_type": "code",
   "execution_count": null,
   "metadata": {},
   "outputs": [],
   "source": [
    "%matplotlib inline\n",
    "import matplotlib.pyplot as plt\n",
    "\n",
    "acc = history.history['acc']\n",
    "#val_acc = history.history['val_acc']\n",
    "loss = history.history['loss']\n",
    "#val_loss = history.history['val_loss']\n",
    "\n",
    "epochs = range(len(acc))\n",
    "\n",
    "plt.plot(epochs, acc, 'bo', label='Training acc')\n",
    "#plt.plot(epochs, val_acc, 'b', label='Validation acc')\n",
    "plt.title('Training accuracy')\n",
    "plt.legend()\n",
    "\n",
    "plt.figure()\n",
    "\n",
    "plt.plot(epochs, loss, 'bo', label='Training loss')\n",
    "#plt.plot(epochs, val_loss, 'b', label='Validation loss')\n",
    "plt.title('Training loss')\n",
    "plt.legend()\n",
    "\n",
    "plt.show()"
   ]
  },
  {
   "cell_type": "code",
   "execution_count": null,
   "metadata": {},
   "outputs": [],
   "source": []
  },
  {
   "cell_type": "code",
   "execution_count": null,
   "metadata": {},
   "outputs": [],
   "source": []
  },
  {
   "cell_type": "code",
   "execution_count": 13,
   "metadata": {},
   "outputs": [
    {
     "name": "stdout",
     "output_type": "stream",
     "text": [
      "Found 3195 images belonging to 2 classes.\n",
      "test acc: 0.9919999980926514\n"
     ]
    }
   ],
   "source": [
    "test_generator = test_datagen.flow_from_directory(\n",
    "        test_dir,\n",
    "        target_size=(150, 150),\n",
    "        batch_size=20,\n",
    "        class_mode='binary')\n",
    "\n",
    "test_loss, test_acc = model.evaluate_generator(test_generator, steps=50)\n",
    "print('test acc:', test_acc)"
   ]
  },
  {
   "cell_type": "markdown",
   "metadata": {},
   "source": [
    "__model 3 score on test set, trained just train set no validation set__"
   ]
  },
  {
   "cell_type": "code",
   "execution_count": 22,
   "metadata": {},
   "outputs": [
    {
     "name": "stdout",
     "output_type": "stream",
     "text": [
      "Found 3195 images belonging to 2 classes.\n",
      "test acc: 0.9969999992847443\n"
     ]
    }
   ],
   "source": [
    "test_generator_3 = test_datagen.flow_from_directory(\n",
    "        test_dir,\n",
    "        target_size=(150, 150),\n",
    "        batch_size=20,\n",
    "        class_mode='binary')\n",
    "\n",
    "test_loss, test_acc = model.evaluate_generator(test_generator_3, steps=50)\n",
    "print('test acc:', test_acc)"
   ]
  },
  {
   "cell_type": "markdown",
   "metadata": {},
   "source": [
    "### Overfitting much?"
   ]
  },
  {
   "cell_type": "markdown",
   "metadata": {},
   "source": [
    "__other metrics__"
   ]
  },
  {
   "cell_type": "code",
   "execution_count": 25,
   "metadata": {},
   "outputs": [],
   "source": [
    "from keras import metrics\n",
    "\n",
    "_metrics = model.compile(loss='mean_squared_error',\n",
    "              optimizer='sgd',\n",
    "              metrics=[metrics.mae, metrics.categorical_accuracy])"
   ]
  },
  {
   "cell_type": "code",
   "execution_count": 29,
   "metadata": {},
   "outputs": [
    {
     "data": {
      "text/plain": [
       "NoneType"
      ]
     },
     "execution_count": 29,
     "metadata": {},
     "output_type": "execute_result"
    }
   ],
   "source": [
    "type(_metrics)"
   ]
  },
  {
   "cell_type": "code",
   "execution_count": null,
   "metadata": {},
   "outputs": [],
   "source": [
    "eval_input_fn = tf.estimator.inputs.numpy_input_fn(\n",
    "    x={\"x\": eval_data},\n",
    "    y=eval_labels,\n",
    "    num_epochs=1,\n",
    "    shuffle=False)\n",
    "\n",
    "eval_results = mnist_classifier.evaluate(input_fn=eval_input_fn)\n",
    "print(eval_results)"
   ]
  }
 ],
 "metadata": {
  "kernelspec": {
   "display_name": "Python 3",
   "language": "python",
   "name": "python3"
  },
  "language_info": {
   "codemirror_mode": {
    "name": "ipython",
    "version": 3
   },
   "file_extension": ".py",
   "mimetype": "text/x-python",
   "name": "python",
   "nbconvert_exporter": "python",
   "pygments_lexer": "ipython3",
   "version": "3.6.8"
  }
 },
 "nbformat": 4,
 "nbformat_minor": 2
}
